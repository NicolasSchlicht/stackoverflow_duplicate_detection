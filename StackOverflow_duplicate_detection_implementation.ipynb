{
 "cells": [
  {
   "cell_type": "markdown",
   "metadata": {},
   "source": [
    "## Data aggregation"
   ]
  },
  {
   "cell_type": "code",
   "execution_count": 1,
   "metadata": {},
   "outputs": [],
   "source": [
    "# Import python basics\n",
    "import re\n",
    "\n",
    "# Imports for database\n",
    "from bs4 import BeautifulSoup\n",
    "import psycopg2\n",
    "import config"
   ]
  },
  {
   "cell_type": "code",
   "execution_count": 2,
   "metadata": {},
   "outputs": [],
   "source": [
    "def convert_question_for_db(row):\n",
    "    if (row['posttypeid'] == 2):\n",
    "        return None\n",
    "    result = []\n",
    "    try:\n",
    "        result.append(row['id'])\n",
    "        result.append(row['posttypeid'])\n",
    "        result.append(row['acceptedanswerid'])\n",
    "        result.append(row['creationdate'])\n",
    "        result.append(row['score'])\n",
    "        result.append(row['viewcount'])\n",
    "        result.append(row['body'])\n",
    "        result.append(row['owneruserid'])\n",
    "        result.append(row['title'])\n",
    "        result.append(row['tags'])\n",
    "        result.append(row['answercount'])\n",
    "        result.append(row['commentcount'])\n",
    "        result.append(row['favoritecount'])\n",
    "    except(KeyError):\n",
    "        return None\n",
    "    return result\n",
    "\n",
    "def insert_one_by_one(list, db):\n",
    "    sql = \"\"\n",
    "    if db == \"questions\":\n",
    "        sql = \"INSERT INTO questions VALUES(%s,%s,%s,%s,%s,%s,%s,%s,%s,%s,%s,%s,%s);\"\n",
    "    elif db == \"answers\":\n",
    "        sql = \"INSERT INTO answers VALUES(%s,%s,%s,%s,%s,%s,%s,%s,%s,%s,%s,%s,%s);\"\n",
    "    elif db == \"new_questions\":\n",
    "        sql = \"INSERT INTO new_questions VALUES(%s,%s,%s,%s,%s,%s,%s,%s,%s,%s,%s,%s,%s);\"\n",
    "    conn = None\n",
    "    error_count = 0\n",
    "    upload_count = 0\n",
    "    try:\n",
    "        # connect\n",
    "        conn = psycopg2.connect(\"dbname=\" +config.database['dbname'] +\" user=\" +config.database['user'] +\" password=\" +config.database['password'])\n",
    "        cur = conn.cursor()\n",
    "        \n",
    "        # execute every object in list one by one\n",
    "        for object in list:\n",
    "            try:\n",
    "                cur.execute(sql, object)\n",
    "                conn.commit()\n",
    "                upload_count += 1\n",
    "            except(psycopg2.DatabaseError) as error:\n",
    "                conn.rollback()\n",
    "                error_count += 1\n",
    "                \n",
    "        # close\n",
    "        cur.close()\n",
    "        \n",
    "        print(str(upload_count) +\" items uploaded and \" +str(error_count) +\" skipped.\")\n",
    "        \n",
    "    except (Exception, psycopg2.DatabaseError) as error:\n",
    "        print(\"Error @ insert_one_by_one\")\n",
    "        print(error)\n",
    "    finally:\n",
    "        if conn is not None:\n",
    "            conn.close()\n",
    "\n",
    "def upload_question(limit, tag, db):\n",
    "    with open(\"Data-Dump/Posts.xml\", encoding='utf-8') as file:\n",
    "        found = 0\n",
    "        db_list = []\n",
    "        for line in file:\n",
    "            if ('PostTypeId=\"1\"' in line and tag in line):\n",
    "                souped = BeautifulSoup(line)\n",
    "                if (souped.row is not None):\n",
    "                    result = souped.find_all(\"row\", {'tags': re.compile(\"(<\" +tag +\">)\")})\n",
    "                    if (len(result) > 0):\n",
    "                        dbobject = convert_question_for_db(souped.row)\n",
    "                        if (dbobject is not None):\n",
    "                            db_list.append(dbobject)\n",
    "                            found += 1\n",
    "                            if (found%10000 == 0):\n",
    "                                print(str(found) +\" entries found.\")\n",
    "            if (found == limit):\n",
    "                break\n",
    "        print(str(found) +\" entries found overall.\")\n",
    "        print(\"Now uploading...\")\n",
    "        insert_one_by_one(db_list, db)"
   ]
  },
  {
   "cell_type": "markdown",
   "metadata": {},
   "source": [
    "### Uploading the questions to work with"
   ]
  },
  {
   "cell_type": "code",
   "execution_count": null,
   "metadata": {},
   "outputs": [],
   "source": [
    "upload_question(50000, \"java\", \"questions\")\n",
    "upload_question(50337, \"python\", \"questions\") #because 337 questions were tagged with 'python' and 'java'"
   ]
  },
  {
   "cell_type": "markdown",
   "metadata": {},
   "source": [
    "### Uploading the corresponding accepted answers"
   ]
  },
  {
   "cell_type": "code",
   "execution_count": 3,
   "metadata": {},
   "outputs": [],
   "source": [
    "def convert_answers_for_db(row):\n",
    "    if (row['posttypeid'] == 1):\n",
    "        return None\n",
    "    result = []\n",
    "    try:\n",
    "        result.append(row['id'])\n",
    "        result.append(row['posttypeid'])\n",
    "        result.append(row['parentid'])\n",
    "        result.append(row['creationdate'])\n",
    "        result.append(row['score'])\n",
    "        result.append(999)\n",
    "        result.append(row['body'])\n",
    "        result.append(999)\n",
    "        result.append(\" \")\n",
    "        result.append(\" \")\n",
    "        result.append(0)\n",
    "        result.append(row['commentcount'])\n",
    "        result.append(999)\n",
    "    except(KeyError):\n",
    "        return None\n",
    "    return result\n",
    "\n",
    "def get_questions(data):\n",
    "    sql = \"\"\n",
    "    if data == \"training\":\n",
    "        sql = \"\"\"select * from questions\"\"\"\n",
    "    elif data == \"testing\":\n",
    "        sql = \"\"\"select * from new_questions\"\"\"\n",
    "    \n",
    "    conn = None\n",
    "    error_count = 0\n",
    "    upload_count = 0\n",
    "    try:\n",
    "        # connect\n",
    "        conn = psycopg2.connect(\"dbname=\" +config.database['dbname'] +\" user=\" +config.database['user'] +\" password=\" +config.database['password'])\n",
    "        cur = conn.cursor()\n",
    "\n",
    "        # get all records\n",
    "        cur.execute(sql)\n",
    "        questions = cur.fetchall()\n",
    "\n",
    "        # close\n",
    "        cur.close()\n",
    "\n",
    "    except (Exception, psycopg2.DatabaseError) as error:\n",
    "        print(\"Error @ returning all questions\")\n",
    "        print(error)\n",
    "    finally:\n",
    "        if conn is not None:\n",
    "            conn.close()\n",
    "    print(\"returned \" +str(len(questions)) +\" items in list.\")\n",
    "    results = sorted(questions, key=lambda x: x[2])\n",
    "    return results\n",
    "\n",
    "def upload_corresponding_answers(questions):\n",
    "    question_ids = []\n",
    "    for question in questions:\n",
    "        question_ids.append(' Id=\"' +str(question[2]) +'\"')\n",
    "    db_list = []\n",
    "    found = 0\n",
    "    current_index = 0\n",
    "    unfound_items = []\n",
    "    with open(\"Data-Dump/Posts.xml\", encoding='utf-8') as file:\n",
    "        for line in file:\n",
    "#             if any(s in line for s in question_ids):\n",
    "            if (question_ids[current_index] in line):\n",
    "                current_index += 1\n",
    "                souped = BeautifulSoup(line)\n",
    "                if (souped.row is not None):\n",
    "                    dbobject = convert_answers_for_db(souped.row)\n",
    "                    if (dbobject is not None):\n",
    "                        db_list.append(dbobject)\n",
    "                        found += 1\n",
    "                if (found%10000 == 0):\n",
    "                    print(str(found) +\" entries found.\")\n",
    "            elif (len(question_ids) >= current_index+1 and question_ids[current_index+1] in line):\n",
    "                unfound_items.append(question_ids[current_index])\n",
    "                current_index += 2\n",
    "                souped = BeautifulSoup(line)\n",
    "                if (souped.row is not None):\n",
    "                    dbobject = convert_answers_for_db(souped.row)\n",
    "                    if (dbobject is not None):\n",
    "                        db_list.append(dbobject)\n",
    "                        found += 1\n",
    "                if (found%10000 == 0):\n",
    "                    print(str(found) +\" entries found.\")\n",
    "            elif (len(question_ids) >= current_index+2 and question_ids[current_index+2] in line):\n",
    "                unfound_items.append(question_ids[current_index])\n",
    "                unfound_items.append(question_ids[current_index+1])\n",
    "                current_index += 3\n",
    "                souped = BeautifulSoup(line)\n",
    "                if (souped.row is not None):\n",
    "                    dbobject = convert_answers_for_db(souped.row)\n",
    "                    if (dbobject is not None):\n",
    "                        db_list.append(dbobject)\n",
    "                        found += 1\n",
    "                if (found%10000 == 0):\n",
    "                    print(str(found) +\" entries found.\")\n",
    "            if (found == 90000):\n",
    "                break\n",
    "        print(\"Those items were not in the data set: \", unfound_items)\n",
    "        print(str(found) +\" entries found overall.\")\n",
    "        print(\"Now uploading...\")\n",
    "        insert_one_by_one(db_list, \"answers\")"
   ]
  },
  {
   "cell_type": "code",
   "execution_count": null,
   "metadata": {
    "scrolled": true
   },
   "outputs": [],
   "source": [
    "upload_corresponding_answers(get_questions(\"training\"))"
   ]
  },
  {
   "cell_type": "markdown",
   "metadata": {},
   "source": [
    "## Doc2Vec implementation"
   ]
  },
  {
   "cell_type": "code",
   "execution_count": 4,
   "metadata": {},
   "outputs": [],
   "source": [
    "# Imports\n",
    "from gensim.models.doc2vec import Doc2Vec, TaggedDocument\n",
    "from nltk.tokenize import word_tokenize\n",
    "from nltk.corpus import stopwords"
   ]
  },
  {
   "cell_type": "code",
   "execution_count": 5,
   "metadata": {},
   "outputs": [],
   "source": [
    "def get_question_titles():\n",
    "    raw_data = get_questions(\"training\")\n",
    "    result = []\n",
    "    for record in raw_data:\n",
    "        result.append(record[8])\n",
    "    return result\n",
    "\n",
    "def display_first(sim_doc, count):\n",
    "    for i in range (count):\n",
    "        print(sim_doc[i][1], \" \", tagged_data[int(sim_doc[i][0])][0])\n",
    "    print(\"\\n\")"
   ]
  },
  {
   "cell_type": "code",
   "execution_count": null,
   "metadata": {},
   "outputs": [],
   "source": [
    "# calculate average words per title\n",
    "data = get_question_titles()\n",
    "cumulative_words = 0\n",
    "\n",
    "for record in data:\n",
    "    splitted = record.split(\" \")\n",
    "    cumulative_words += len(splitted)\n",
    "\n",
    "print(\"average words per title \", cumulative_words/(len(data)))"
   ]
  },
  {
   "cell_type": "code",
   "execution_count": null,
   "metadata": {},
   "outputs": [],
   "source": [
    "# count all used words\n",
    "counter = 0\n",
    "\n",
    "for record in tagged_data:\n",
    "    counter += len(record.words)\n",
    "    \n",
    "print(counter)"
   ]
  },
  {
   "cell_type": "code",
   "execution_count": 6,
   "metadata": {
    "scrolled": true
   },
   "outputs": [
    {
     "name": "stdout",
     "output_type": "stream",
     "text": [
      "returned 100000 items in list.\n"
     ]
    }
   ],
   "source": [
    "data = get_question_titles()\n",
    "data_filtered = []\n",
    "stop_words = set(stopwords.words('english'))\n",
    "additional_stop_words = (\"? : ( ) ; , `` - 's '\").lower().split(\" \")\n",
    "for w in additional_stop_words:\n",
    "    stop_words.add(w)\n",
    "\n",
    "for record in data:\n",
    "    tokenized = word_tokenize(record.lower())\n",
    "    data_filtered.append([w for w in tokenized if not w in stop_words])\n",
    "\n",
    "tagged_data = [TaggedDocument(words=_d, tags=[str(i)]) for i, _d in enumerate(data_filtered)]"
   ]
  },
  {
   "cell_type": "code",
   "execution_count": null,
   "metadata": {},
   "outputs": [],
   "source": [
    "# create models\n",
    "manual = [24,100,300,100,1000,100]\n",
    "\n",
    "for i in range(int(len(manual)/2)):\n",
    "    alpha = 0.025\n",
    "\n",
    "    model = Doc2Vec(vector_size=manual[i*2],\n",
    "                    alpha=alpha,\n",
    "                    min_alpha=0.00025,\n",
    "                    min_count=2,\n",
    "                    workers=6,\n",
    "                    dm =1)\n",
    "\n",
    "    model.build_vocab(tagged_data)\n",
    "\n",
    "    for epoch in range(manual[(i*2)+1]):\n",
    "        print('iteration {0}'.format(epoch))\n",
    "        model.train(tagged_data,\n",
    "                    total_examples=model.corpus_count,\n",
    "                    epochs=model.iter)\n",
    "        # decrease the learning rate\n",
    "        model.alpha -= 0.0002\n",
    "        # fix the learning rate, no decay\n",
    "        model.min_alpha = model.alpha\n",
    "\n",
    "    model.save(\"2020-07-01_vec\"+str(manual[(i*2)])+\"epoch\"+str(manual[(i*2)+1])+\".model\")\n",
    "    print(\"2020-07-01_vec\"+str(manual[(i*2)])+\"epoch\"+str(manual[(i*2)+1])+\".model saved \\n\")"
   ]
  },
  {
   "cell_type": "markdown",
   "metadata": {},
   "source": [
    "### semantic clustering"
   ]
  },
  {
   "cell_type": "code",
   "execution_count": 7,
   "metadata": {},
   "outputs": [],
   "source": [
    "# Imports\n",
    "from sklearn.cluster import KMeans\n",
    "from sklearn.decomposition import PCA\n",
    "import matplotlib.pyplot as plt\n",
    "import pandas as pd\n",
    "import numpy as np\n",
    "from heapq import nlargest\n",
    "from operator import itemgetter"
   ]
  },
  {
   "cell_type": "code",
   "execution_count": 8,
   "metadata": {},
   "outputs": [],
   "source": [
    "def get_keywords_from_cluster(cluster_df):\n",
    "    dict = {}\n",
    "    for i in range(len(cluster_df)):\n",
    "        record = tagged_data[cluster_df[\"index\"].iloc[i]][0]\n",
    "        for j in range(len(record)):\n",
    "            if record[j] not in dict:\n",
    "                dict[record[j]] = 1\n",
    "            else:\n",
    "                dict[record[j]] += 1\n",
    "    return dict\n",
    "\n",
    "def fill_resulttable(length, df_0, df_1, df_2):\n",
    "    result_df = pd.DataFrame()\n",
    "    \n",
    "    result_0 = pd.DataFrame(columns=[\"df_0_name\", \"df_0_value\"])\n",
    "    for name, value in nlargest(length, get_keywords_from_cluster(df_0).items(), key=itemgetter(1)):\n",
    "        result_0 = result_0.append({'df_0_name': name, 'df_0_value': value}, ignore_index = True)\n",
    "    \n",
    "    result_1 = pd.DataFrame(columns=[\"df_1_name\", \"df_1_value\"])\n",
    "    for name, value in nlargest(length, get_keywords_from_cluster(df_1).items(), key=itemgetter(1)):\n",
    "        result_1 = result_1.append({'df_1_name': name, 'df_1_value': value}, ignore_index = True)\n",
    "    \n",
    "    result_2 = pd.DataFrame(columns=[\"df_2_name\", \"df_2_value\"])\n",
    "    for name, value in nlargest(length, get_keywords_from_cluster(df_2).items(), key=itemgetter(1)):\n",
    "        result_2 = result_2.append({'df_2_name': name, 'df_2_value': value}, ignore_index = True)\n",
    "    \n",
    "    result_df = pd.concat([result_df, result_0, result_1, result_2], axis=1)    \n",
    "    return result_df\n"
   ]
  },
  {
   "cell_type": "markdown",
   "metadata": {},
   "source": [
    "#### dimension 24"
   ]
  },
  {
   "cell_type": "code",
   "execution_count": 9,
   "metadata": {},
   "outputs": [
    {
     "name": "stdout",
     "output_type": "stream",
     "text": [
      "2020-06-26_vec24epoch100\n"
     ]
    }
   ],
   "source": [
    "print(\"2020-06-26_vec24epoch100\")\n",
    "doc2vec_model = Doc2Vec.load(\"2020-06-26_vec24epoch100.model\")"
   ]
  },
  {
   "cell_type": "code",
   "execution_count": 10,
   "metadata": {},
   "outputs": [],
   "source": [
    "doc2vec_model_kmeans_model = KMeans(n_clusters=3, init='k-means++', max_iter=100) \n",
    "\n",
    "doc2vec_model_kmeans_model.fit(doc2vec_model.docvecs.vectors_docs)\n",
    "labels = doc2vec_model_kmeans_model.labels_.tolist()\n",
    "doc2vec_model_kmeans_model.fit_predict(doc2vec_model.docvecs.vectors_docs)\n",
    "pca = PCA(n_components=2).fit(doc2vec_model.docvecs.vectors_docs)\n",
    "datapoint = pca.transform(doc2vec_model.docvecs.vectors_docs)"
   ]
  },
  {
   "cell_type": "code",
   "execution_count": 11,
   "metadata": {},
   "outputs": [
    {
     "data": {
      "image/png": "[encoded data removed]",
      "text/plain": [
       "<Figure size 432x288 with 1 Axes>"
      ]
     },
     "metadata": {
      "needs_background": "light"
     },
     "output_type": "display_data"
    }
   ],
   "source": [
    "%matplotlib inline\n",
    "plt.figure\n",
    "colors = [\"#FFFF00\", \"#008000\", \"#0000FF\", \"#454DFF\", \"#D56F4F\", \"#FEFFF5\"]\n",
    "color = [colors[i] for i in labels]\n",
    "plt.scatter(datapoint[:, 0], datapoint[:, 1], c=color)\n",
    "centroids = doc2vec_model_kmeans_model.cluster_centers_\n",
    "centroidpoint = pca.transform(centroids)\n",
    "plt.scatter(centroidpoint[:, 0], centroidpoint[:, 1], marker='^', s=150, c='#000000')\n",
    "plt.show()"
   ]
  },
  {
   "cell_type": "markdown",
   "metadata": {},
   "source": [
    "#### dimension 300"
   ]
  },
  {
   "cell_type": "code",
   "execution_count": 12,
   "metadata": {},
   "outputs": [
    {
     "name": "stdout",
     "output_type": "stream",
     "text": [
      "2020-06-26_vec300epoch100\n"
     ]
    }
   ],
   "source": [
    "print(\"2020-06-26_vec300epoch100\")\n",
    "doc2vec_model = Doc2Vec.load(\"2020-06-26_vec300epoch100.model\")"
   ]
  },
  {
   "cell_type": "code",
   "execution_count": 13,
   "metadata": {},
   "outputs": [],
   "source": [
    "doc2vec_model_kmeans_model = KMeans(n_clusters=3, init='k-means++', max_iter=100) \n",
    "\n",
    "doc2vec_model_kmeans_model.fit(doc2vec_model.docvecs.vectors_docs)\n",
    "labels = doc2vec_model_kmeans_model.labels_.tolist()\n",
    "doc2vec_model_kmeans_model.fit_predict(doc2vec_model.docvecs.vectors_docs)\n",
    "pca = PCA(n_components=2).fit(doc2vec_model.docvecs.vectors_docs)\n",
    "datapoint = pca.transform(doc2vec_model.docvecs.vectors_docs)"
   ]
  },
  {
   "cell_type": "code",
   "execution_count": 14,
   "metadata": {},
   "outputs": [
    {
     "data": {
      "image/png": "[encoded data removed]",
      "text/plain": [
       "<Figure size 432x288 with 1 Axes>"
      ]
     },
     "metadata": {
      "needs_background": "light"
     },
     "output_type": "display_data"
    }
   ],
   "source": [
    "%matplotlib inline\n",
    "plt.figure\n",
    "colors = [\"#FFFF00\", \"#008000\", \"#0000FF\", \"#454DFF\", \"#D56F4F\", \"#FEFFF5\"]\n",
    "color = [colors[i] for i in labels]\n",
    "plt.scatter(datapoint[:, 0], datapoint[:, 1], c=color)\n",
    "centroids = doc2vec_model_kmeans_model.cluster_centers_\n",
    "centroidpoint = pca.transform(centroids)\n",
    "plt.scatter(centroidpoint[:, 0], centroidpoint[:, 1], marker='^', s=150, c='#000000')\n",
    "plt.show()"
   ]
  },
  {
   "cell_type": "markdown",
   "metadata": {},
   "source": [
    "#### dimension 1000"
   ]
  },
  {
   "cell_type": "code",
   "execution_count": 15,
   "metadata": {
    "scrolled": true
   },
   "outputs": [
    {
     "name": "stdout",
     "output_type": "stream",
     "text": [
      "2020-06-26_vec1000epoch100\n"
     ]
    }
   ],
   "source": [
    "print(\"2020-06-26_vec1000epoch100\")\n",
    "doc2vec_model = Doc2Vec.load(\"2020-06-26_vec1000epoch100.model\")"
   ]
  },
  {
   "cell_type": "code",
   "execution_count": 16,
   "metadata": {},
   "outputs": [],
   "source": [
    "doc2vec_model_kmeans_model = KMeans(n_clusters=3, init='k-means++', max_iter=100) \n",
    "\n",
    "doc2vec_model_kmeans_model.fit(doc2vec_model.docvecs.vectors_docs)\n",
    "labels = doc2vec_model_kmeans_model.labels_.tolist()\n",
    "doc2vec_model_kmeans_model.fit_predict(doc2vec_model.docvecs.vectors_docs)\n",
    "pca = PCA(n_components=2).fit(doc2vec_model.docvecs.vectors_docs)\n",
    "datapoint = pca.transform(doc2vec_model.docvecs.vectors_docs)"
   ]
  },
  {
   "cell_type": "code",
   "execution_count": 17,
   "metadata": {},
   "outputs": [
    {
     "data": {
      "image/png": "[encoded data removed]",
      "text/plain": [
       "<Figure size 432x288 with 1 Axes>"
      ]
     },
     "metadata": {
      "needs_background": "light"
     },
     "output_type": "display_data"
    }
   ],
   "source": [
    "%matplotlib inline\n",
    "plt.figure\n",
    "colors = [\"#FFFF00\", \"#008000\", \"#0000FF\", \"#454DFF\", \"#D56F4F\", \"#FEFFF5\"]\n",
    "color = [colors[i] for i in labels]\n",
    "plt.scatter(datapoint[:, 0], datapoint[:, 1], c=color)\n",
    "centroids = doc2vec_model_kmeans_model.cluster_centers_\n",
    "centroidpoint = pca.transform(centroids)\n",
    "plt.scatter(centroidpoint[:, 0], centroidpoint[:, 1], marker='^', s=150, c='#000000')\n",
    "plt.show()"
   ]
  },
  {
   "cell_type": "markdown",
   "metadata": {},
   "source": [
    "### topic generation"
   ]
  },
  {
   "cell_type": "code",
   "execution_count": 18,
   "metadata": {},
   "outputs": [],
   "source": [
    "def get_labels(model):\n",
    "    doc2vec_model = Doc2Vec.load(model)    \n",
    "    doc2vec_model_kmeans_model = KMeans(n_clusters=3, init='k-means++', max_iter=100) \n",
    "    doc2vec_model_kmeans_model.fit(doc2vec_model.docvecs.vectors_docs)\n",
    "    labels = doc2vec_model_kmeans_model.labels_.tolist()\n",
    "    return labels\n",
    "\n",
    "def generate_topics(labels):\n",
    "    print(\"-------------------------------------------\")\n",
    "    label_df = pd.DataFrame(labels, columns=[\"label\"])\n",
    "    label_df['index'] = np.arange(len(label_df))\n",
    "\n",
    "    # dataframes for every cluster\n",
    "    df_0 = pd.DataFrame(label_df[label_df[\"label\"] == 0][\"index\"])\n",
    "    df_1 = pd.DataFrame(label_df[label_df[\"label\"] == 1][\"index\"])\n",
    "    df_2 = pd.DataFrame(label_df[label_df[\"label\"] == 2][\"index\"])\n",
    "    \n",
    "    table = fill_resulttable(100, df_0, df_1, df_2)\n",
    "    print(table,\"\\n\")\n",
    "    \n",
    "    # check common 100 words against other cluster and return differences or unique topics\n",
    "    common_words = []\n",
    "    common_words.append([])\n",
    "    common_words.append([])\n",
    "    common_words.append([])\n",
    "\n",
    "    for j in range(3):\n",
    "        for i in range(100):\n",
    "            common_words[j].append(table.loc[i][j*2])\n",
    "            for k in range(100):\n",
    "                if table.loc[i][j*2] == table.loc[k][0] and j*2 != 0:\n",
    "                    del common_words[j][-1]\n",
    "                    break\n",
    "                elif table.loc[i][j*2] == table.loc[k][2] and j*2 != 2:\n",
    "                    del common_words[j][-1]\n",
    "                    break\n",
    "                elif table.loc[i][j*2] == table.loc[k][4] and j*2 != 4:\n",
    "                    del common_words[j][-1]\n",
    "                    break\n",
    "\n",
    "    common_words_df = pd.DataFrame(common_words).transpose()\n",
    "    print(common_words_df)\n",
    "    return common_words_df"
   ]
  },
  {
   "cell_type": "code",
   "execution_count": 19,
   "metadata": {
    "scrolled": true
   },
   "outputs": [
    {
     "name": "stdout",
     "output_type": "stream",
     "text": [
      "-------------------------------------------\n",
      "   df_0_name df_0_value df_1_name df_1_value   df_2_name df_2_value\n",
      "0     python       8220    python       6015      python       9708\n",
      "1       java       6317      java       4579        java       6907\n",
      "2       file       1993     using       2471       using       2787\n",
      "3      using       1839    django       1223        file       1765\n",
      "4     django       1601   without       1075      string       1743\n",
      "..       ...        ...       ...        ...         ...        ...\n",
      "95     first        251  database        229    database        284\n",
      "96   logging        251    number        229  connection        281\n",
      "97   command        248   classes        227        time        279\n",
      "98     query        244   strings        224     install        277\n",
      "99       jsp        243    client        221   directory        273\n",
      "\n",
      "[100 rows x 6 columns] \n",
      "\n",
      "             0          1               2\n",
      "0          xml    without      equivalent\n",
      "1         name    problem            call\n",
      "2       static          /        creating\n",
      "3         html  different            read\n",
      "4       memory     simple         program\n",
      "5          url         vs          return\n",
      "6        regex          +           write\n",
      "7         json          &       implement\n",
      "8         http     within             key\n",
      "9        maven    working        generate\n",
      "10       model       like         package\n",
      "11     default     inside          change\n",
      "12       swing        via       variables\n",
      "13           @   question          remove\n",
      "14         jar       good      characters\n",
      "15  matplotlib    dynamic         process\n",
      "16         jpa       used         element\n",
      "17      source       help         threads\n",
      "18        path          2         calling\n",
      "19    instance      based        elements\n",
      "20     unicode      issue  implementation\n",
      "21     servlet   problems           lists\n",
      "22      binary     output      connection\n",
      "23       first      large         install\n",
      "24     logging       need       directory\n",
      "25     command     nested            None\n",
      "26       query          3            None\n",
      "27         jsp        vs.            None\n",
      "28        None    instead            None\n",
      "29        None     client            None\n",
      "-------------------------------------------\n",
      "   df_0_name df_0_value df_1_name df_1_value  df_2_name df_2_value\n",
      "0      using       4094    python      21050       java      16346\n",
      "1     django       3702     using       1922      using       1081\n",
      "2     python       2768      list       1407       file        890\n",
      "3       file       2648      file       1275      class        792\n",
      "4        use       2171    string       1061     string        705\n",
      "..       ...        ...       ...        ...        ...        ...\n",
      "95    static        473      dict        153     python        125\n",
      "96      form        471      type        152        map        125\n",
      "97      call        468   process        151   database        124\n",
      "98         /        468       c++        149       like        124\n",
      "99       jar        458    remove        147  variables        122\n",
      "\n",
      "[100 rows x 6 columns] \n",
      "\n",
      "             0           1            2\n",
      "0       spring  dictionary            #\n",
      "1    hibernate       lists      methods\n",
      "2        numpy           `         date\n",
      "3          add     strings    interface\n",
      "4        maven     unicode      generic\n",
      "5   matplotlib      import   collection\n",
      "6       custom        loop    arraylist\n",
      "7        query   functions       client\n",
      "8        model        html      threads\n",
      "9          jpa     command       source\n",
      "10         key      output         good\n",
      "11           @     parsing    framework\n",
      "12        user       print  performance\n",
      "13       field        json          int\n",
      "14        test   arguments         byte\n",
      "15      change  characters          map\n",
      "16  sqlalchemy         csv         None\n",
      "17         url   directory         None\n",
      "18        form     reading         None\n",
      "19         jar        dict         None\n",
      "20        None     process         None\n",
      "21        None      remove         None\n",
      "-------------------------------------------\n",
      "   df_0_name df_0_value df_1_name df_1_value df_2_name df_2_value\n",
      "0     python      21073      java      16317     using       4185\n",
      "1      using       1851     using       1061    django       3702\n",
      "2       list       1392      file        881    python       2749\n",
      "3       file       1280     class        792      file       2652\n",
      "4     string       1064    string        697       use       2183\n",
      "..       ...        ...       ...        ...       ...        ...\n",
      "95   reading        153      like        124      call        474\n",
      "96       c++        152      byte        124      form        474\n",
      "97      dict        151    simple        122    static        473\n",
      "98         x        148    python        121         /        462\n",
      "99        vs        148         [        119       jar        457\n",
      "\n",
      "[100 rows x 6 columns] \n",
      "\n",
      "             0            1           2\n",
      "0   dictionary            #      spring\n",
      "1        lists         date   hibernate\n",
      "2            `      methods       numpy\n",
      "3      strings    interface         add\n",
      "4      unicode      generic       maven\n",
      "5       import   collection      custom\n",
      "6         html    arraylist  matplotlib\n",
      "7         loop    framework       query\n",
      "8    functions  performance       model\n",
      "9    variables      threads         jpa\n",
      "10     command       client           @\n",
      "11      output       source         key\n",
      "12     parsing         good       field\n",
      "13       print          int        user\n",
      "14   arguments          map        test\n",
      "15        json         byte      change\n",
      "16  characters            [  sqlalchemy\n",
      "17     process         None         url\n",
      "18         csv         None        form\n",
      "19   directory         None         jar\n",
      "20     reading         None        None\n",
      "21        dict         None        None\n",
      "22           x         None        None\n"
     ]
    }
   ],
   "source": [
    "topic24 = generate_topics(get_labels(\"2020-06-26_vec24epoch100.model\"))\n",
    "topic300 = generate_topics(get_labels(\"2020-06-26_vec300epoch100.model\"))\n",
    "topic1000 = generate_topics(get_labels(\"2020-06-26_vec1000epoch100.model\"))"
   ]
  },
  {
   "cell_type": "markdown",
   "metadata": {},
   "source": [
    "0: theoretical/logical questions, \n",
    "\n",
    "1: practical questions concerning implementation,\n",
    "\n",
    "2: questions concerning libraries, transfer knowledge"
   ]
  },
  {
   "cell_type": "markdown",
   "metadata": {},
   "source": [
    "### answering new questions"
   ]
  },
  {
   "cell_type": "markdown",
   "metadata": {},
   "source": [
    "similarity requests of the answers for semantically close questions\n",
    "\n",
    "search in database for questions which are matching >95% and conclude wether the given answers can answer the question"
   ]
  },
  {
   "cell_type": "code",
   "execution_count": null,
   "metadata": {},
   "outputs": [],
   "source": [
    "#uploading 10.000 new questions for both tags\n",
    "upload_question(60000, \"java\", \"new_questions\")\n",
    "upload_question(60381, \"python\", \"new_questions\")"
   ]
  },
  {
   "cell_type": "markdown",
   "metadata": {},
   "source": [
    "#### forward search"
   ]
  },
  {
   "cell_type": "code",
   "execution_count": 20,
   "metadata": {
    "scrolled": false
   },
   "outputs": [
    {
     "name": "stdout",
     "output_type": "stream",
     "text": [
      "returned 20000 items in list.\n",
      "5000 reached.\n",
      "10000 reached.\n",
      "15000 reached.\n",
      "20000 reached.\n",
      "15\n"
     ]
    }
   ],
   "source": [
    "doc2vec_model = Doc2Vec.load(\"2020-06-26_vec24epoch100.model\")\n",
    "testing_questions = get_questions(\"testing\")\n",
    "high_matches = []\n",
    "high_matches.append([])\n",
    "high_matches.append([])\n",
    "counter = 0\n",
    "for record in testing_questions:\n",
    "    counter += 1\n",
    "    if counter%5000 == 0:\n",
    "        print(counter, \"reached.\")\n",
    "    infer = doc2vec_model.infer_vector(word_tokenize(record[8]))\n",
    "    sim = doc2vec_model.docvecs.most_similar([infer])\n",
    "    if sim[0][1] >= 0.95:\n",
    "        high_matches[0].append(record[8])\n",
    "        high_matches[1].append(sim)\n",
    "\n",
    "\n",
    "print(len(high_matches[0]))"
   ]
  },
  {
   "cell_type": "code",
   "execution_count": 21,
   "metadata": {
    "scrolled": true
   },
   "outputs": [
    {
     "name": "stdout",
     "output_type": "stream",
     "text": [
      "JList selected item to String\n",
      "0.9512442350387573   ['dependency', 'injection', 'python-way']\n",
      "0.9423564672470093   ['memory', 'leak']\n",
      "0.9400866031646729   ['memory', 'leak', 'jdbc4connection']\n",
      "\n",
      "\n",
      "How does java handle unicode characters?\n",
      "0.9545019865036011   ['memory', 'leak', 'jdbc4connection']\n",
      "0.9456137418746948   ['dependency', 'injection', 'python-way']\n",
      "0.9412877559661865   ['memory', 'leak']\n",
      "\n",
      "\n",
      "Java System.currentTimeMillis() problem\n",
      "0.9538475275039673   ['treeset.contains', 'problem']\n",
      "0.9441665410995483   ['problem', 'javax.swing.swingworker']\n",
      "0.9416806697845459   ['odf', 'toolkit-casting', 'problem']\n",
      "\n",
      "\n",
      "Annotation attributes with type parameters\n",
      "0.9534156322479248   ['dependency', 'injection', 'python-way']\n",
      "0.9477518200874329   ['regular', 'expression', 'urlpattern']\n",
      "0.9443079829216003   ['memory', 'leak', 'jdbc4connection']\n",
      "\n",
      "\n",
      "JAXB vs DOM and SAX\n",
      "0.965202808380127   ['servletcontext.getrequestdispatcher', 'vs', 'servletrequest.getrequestdispatcher']\n",
      "0.9645094871520996   ['org.springframework.transaction.annotation.transactional', 'vs', 'javax.jdo.annotations.transactional']\n",
      "0.9607041478157043   ['inspect.getfile', 'vs', 'inspect.getsourcefile']\n",
      "\n",
      "\n",
      "InputStreamReader vs FileReader\n",
      "0.9539532661437988   ['org.springframework.transaction.annotation.transactional', 'vs', 'javax.jdo.annotations.transactional']\n",
      "0.9536111354827881   ['fjtask', 'vs', 'future+callables+executorservice']\n",
      "0.9521200656890869   ['inspect.getfile', 'vs', 'inspect.getsourcefile']\n",
      "\n",
      "\n",
      "What does \"if (rs.next())\" mean?\n",
      "0.9504874348640442   ['javax.naming.noinitialcontextexception', \"''\", 'mean']\n",
      "0.8782029151916504   ['4j', 'mean']\n",
      "0.8752774596214294   ['axisfault', 'server.userexception', 'mean']\n",
      "\n",
      "\n",
      "What is the difference between getDeclaredConstructors and getConstructors in the Class API?\n",
      "0.9500906467437744   ['difference', '++var', 'var++']\n",
      "0.9489670991897583   ['difference', '__reduce__', '__reduce_ex__']\n",
      "0.9399312734603882   ['difference', 'arraylist.clear', 'arraylist.removeall']\n",
      "\n",
      "\n",
      "numpy convert 2D Integer Record to 2D floating point Record\n",
      "0.954482913017273   ['memory', 'leak', 'jdbc4connection']\n",
      "0.9544664621353149   ['memory', 'leak']\n",
      "0.9470990896224976   ['dependency', 'injection', 'python-way']\n",
      "\n",
      "\n",
      "New to Python, GMail SMTP error\n",
      "0.950169563293457   ['button.setonclicklistener', 'error']\n",
      "0.9463309049606323   ['django-evolution', 'error']\n",
      "0.9457635879516602   ['error', 'documentlistener']\n",
      "\n",
      "\n",
      "Python equivalent of npm or rubygems\n",
      "0.9543046951293945   ['asp.net/iis', 'equivalent', 'java/was', 'context-root']\n",
      "0.9281313419342041   ['e.printstacktrace', 'equivalent', 'python']\n",
      "0.9178653955459595   ['python', 'equivalent', 'java.util.sortedset']\n",
      "\n",
      "\n",
      "What is Python's coerce() used for?\n",
      "0.959080696105957   ['java.awt.component.getname', 'setname', 'used']\n",
      "0.9586853981018066   ['method.isbridge', 'used']\n",
      "0.8462919592857361   ['python', 'sys.intern', 'used']\n",
      "\n",
      "\n",
      "How do you remove a column from a structured numpy array?\n",
      "0.9519261121749878   ['apache', 'commons', 'ftpclient.listfiles']\n",
      "0.9198347330093384   ['special', 'characters', 'incongruence']\n",
      "0.9181156754493713   ['pygettext.py', 'msgfmt.py', 'mac', 'os', 'x']\n",
      "\n",
      "\n",
      "Django formset duplicate values\n",
      "0.9602223634719849   ['regular', 'expression', 'urlpattern']\n",
      "0.9497697949409485   ['regular', 'expression']\n",
      "0.9404246211051941   ['best', 'practice', 'response.getoutputstream']\n",
      "\n",
      "\n",
      "Remove rows with duplicate indices (Pandas DataFrame and TimeSeries)\n",
      "0.9542986154556274   ['regular', 'expression', 'urlpattern']\n",
      "0.949215292930603   ['regular', 'expression']\n",
      "0.924979567527771   ['memory', 'leak', 'jdbc4connection']\n",
      "\n",
      "\n"
     ]
    }
   ],
   "source": [
    "for i in range(len(high_matches[0])):\n",
    "    print(high_matches[0][i])\n",
    "    display_first(high_matches[1][i], 3)"
   ]
  },
  {
   "cell_type": "code",
   "execution_count": 22,
   "metadata": {
    "scrolled": false
   },
   "outputs": [
    {
     "name": "stdout",
     "output_type": "stream",
     "text": [
      "returned 20000 items in list.\n",
      "5000 reached.\n",
      "10000 reached.\n",
      "15000 reached.\n",
      "20000 reached.\n",
      "20000\n"
     ]
    }
   ],
   "source": [
    "doc2vec_model = Doc2Vec.load(\"2020-06-26_vec300epoch100.model\")\n",
    "testing_questions = get_questions(\"testing\")\n",
    "high_matches = []\n",
    "high_matches.append([])\n",
    "high_matches.append([])\n",
    "counter = 0\n",
    "for record in testing_questions:\n",
    "    counter += 1\n",
    "    if counter%5000 == 0:\n",
    "        print(counter, \"reached.\")\n",
    "    infer = doc2vec_model.infer_vector(word_tokenize(record[8]))\n",
    "    sim = doc2vec_model.docvecs.most_similar([infer])\n",
    "#     if sim[0][1] >= 0.95:\n",
    "    high_matches[0].append(record[8])\n",
    "    high_matches[1].append(sim)\n",
    "\n",
    "\n",
    "print(len(high_matches[0]))"
   ]
  },
  {
   "cell_type": "code",
   "execution_count": 23,
   "metadata": {
    "scrolled": true
   },
   "outputs": [
    {
     "name": "stdout",
     "output_type": "stream",
     "text": [
      "0.7106959819793701\n"
     ]
    }
   ],
   "source": [
    "for i in range(len(high_matches[0])):\n",
    "    highest_percentage = 0\n",
    "    if high_matches[1][i][0][1] > highest_percentage:\n",
    "        highest_percentage = high_matches[1][i][0][1]\n",
    "        \n",
    "print(highest_percentage)\n",
    "#     print(high_matches[0][i])\n",
    "#     display_first(high_matches[1][i], 3)"
   ]
  },
  {
   "cell_type": "markdown",
   "metadata": {},
   "source": [
    "#### backward search"
   ]
  },
  {
   "cell_type": "code",
   "execution_count": 24,
   "metadata": {},
   "outputs": [
    {
     "name": "stdout",
     "output_type": "stream",
     "text": [
      "0.8224709630012512 ['django', 'select', 'max', 'id']\n",
      "0.8883411884307861 ['connection', 'refused']\n",
      "0.8811770677566528 ['python/pyserial', 'cpu', 'usage']\n",
      "0.8810974359512329 ['unit', 'test', 'code-generator']\n",
      "0.827673077583313 ['equivalent', 'c', '#', 'ondeserialized/onserializaed', 'java']\n",
      "0.855326771736145 ['pygettext.py', 'msgfmt.py', 'mac', 'os', 'x']\n",
      "0.8669632077217102 ['replace', 'ï¿½', 'string']\n",
      "0.8824090957641602 ['pygettext.py', 'msgfmt.py', 'mac', 'os', 'x']\n",
      "0.8526859283447266 ['converting', 'string', 'list', 'words']\n",
      "0.8994042277336121 ['pygettext.py', 'msgfmt.py', 'mac', 'os', 'x']\n"
     ]
    }
   ],
   "source": [
    "duplicate_questions = [\"How do I select from multidimensional DataFrame in Python?\", \"How to convert a UTF-8/Unicode String to lower or upper case using only Python?\", \"Is Python able to restart my computer?\", \"In which Tomcat folder do I have to put the Servlets?\", \"Is there any good way to remove hastags from strings in Python?\", \"How can I access text inside a Word Document with Python?\", \"How to replace double quotes in a string?\", \"Is it easy to upgrade to javaserver faces?\", \"How do I convert a string to a list of lists in Python?\", \"How to produce a static HTML website from XML?\"]\n",
    "doc2vec_model = Doc2Vec.load(\"2020-06-26_vec24epoch100.model\")\n",
    "\n",
    "for question in duplicate_questions:\n",
    "    infer = doc2vec_model.infer_vector(word_tokenize(question))\n",
    "    sim = doc2vec_model.docvecs.most_similar([infer])\n",
    "    print(sim[0][1], tagged_data[int(sim[0][0])][0])"
   ]
  },
  {
   "cell_type": "code",
   "execution_count": 25,
   "metadata": {},
   "outputs": [
    {
     "name": "stdout",
     "output_type": "stream",
     "text": [
      "0.6499163508415222 ['java.lang.outofmemoryerror', 'permgen', 'space']\n",
      "0.6081365346908569 ['using', 'multiprocessing', 'pool', 'workers']\n",
      "0.592017650604248 ['typical', 'workflow', 'development', 'zenoss', 'zenpack']\n",
      "0.6759992837905884 ['properly', 'put', 'jsps', 'web-inf', 'folder']\n",
      "0.5350605249404907 ['remove', 'empty', 'strings', 'list', 'strings']\n",
      "0.5891176462173462 ['access', 'modelmap', 'jsp']\n",
      "0.598436176776886 ['case', 'insensitive', 'replace']\n",
      "0.5962806940078735 ['bypass', 'generatedvalue', 'hibernate']\n",
      "0.7035338878631592 ['convert', 'string', 'list', 'lists']\n",
      "0.6869184374809265 ['website', 'computer', 'communications']\n"
     ]
    }
   ],
   "source": [
    "duplicate_questions = [\"How do I select from multidimensional DataFrame in Python?\", \"How to convert a UTF-8/Unicode String to lower or upper case using only Python?\", \"Is Python able to restart my computer?\", \"In which Tomcat folder do I have to put the Servlets?\", \"Is there any good way to remove hastags from strings in Python?\", \"How can I access text inside a Word Document with Python?\", \"How to replace double quotes in a string?\", \"Is it easy to upgrade to javaserver faces?\", \"How do I convert a string to a list of lists in Python?\", \"How to produce a static HTML website from XML?\"]\n",
    "doc2vec_model = Doc2Vec.load(\"2020-06-26_vec300epoch100.model\")\n",
    "\n",
    "for question in duplicate_questions:\n",
    "    infer = doc2vec_model.infer_vector(word_tokenize(question))\n",
    "    sim = doc2vec_model.docvecs.most_similar([infer])\n",
    "    print(sim[0][1], tagged_data[int(sim[0][0])][0])"
   ]
  }
 ],
 "metadata": {
  "kernelspec": {
   "display_name": "Python 3",
   "language": "python",
   "name": "python3"
  },
  "language_info": {
   "codemirror_mode": {
    "name": "ipython",
    "version": 3
   },
   "file_extension": ".py",
   "mimetype": "text/x-python",
   "name": "python",
   "nbconvert_exporter": "python",
   "pygments_lexer": "ipython3",
   "version": "3.7.6"
  }
 },
 "nbformat": 4,
 "nbformat_minor": 4
}
